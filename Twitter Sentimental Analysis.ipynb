{
 "cells": [
  {
   "cell_type": "markdown",
   "metadata": {},
   "source": [
    "# Twitter Sentiment Analysis"
   ]
  },
  {
   "cell_type": "code",
   "execution_count": 1,
   "metadata": {},
   "outputs": [],
   "source": [
    "# Importing libraries\n",
    "\n",
    "import numpy as np\n",
    "import pandas as pd\n",
    "import matplotlib.pyplot as plt\n",
    "import seaborn as sns\n",
    "import re\n",
    "import warnings\n",
    "warnings.filterwarnings('ignore')"
   ]
  },
  {
   "cell_type": "code",
   "execution_count": 2,
   "metadata": {},
   "outputs": [],
   "source": [
    "train = pd.read_csv(\"train_E6oV3lV.csv\")\n",
    "test = pd.read_csv(\"test_tweets_anuFYb8.csv\")"
   ]
  },
  {
   "cell_type": "code",
   "execution_count": 3,
   "metadata": {},
   "outputs": [
    {
     "name": "stdout",
     "output_type": "stream",
     "text": [
      "unique values in id are 31962\n",
      "unique values in label are 2\n",
      "unique values in tweet are 29530\n"
     ]
    }
   ],
   "source": [
    "for feature in train.columns:\n",
    "    print(\"unique values in {} are {}\".format(feature,train[feature].nunique()))"
   ]
  },
  {
   "cell_type": "code",
   "execution_count": 4,
   "metadata": {},
   "outputs": [
    {
     "data": {
      "text/plain": [
       "((31962, 3), (17197, 2))"
      ]
     },
     "execution_count": 4,
     "metadata": {},
     "output_type": "execute_result"
    }
   ],
   "source": [
    "train.shape , test.shape"
   ]
  },
  {
   "cell_type": "code",
   "execution_count": 5,
   "metadata": {},
   "outputs": [],
   "source": [
    "submission = pd.DataFrame()\n",
    "submission[\"id\"] = test[\"id\"]"
   ]
  },
  {
   "cell_type": "code",
   "execution_count": 6,
   "metadata": {},
   "outputs": [],
   "source": [
    "train.drop(columns = [\"id\"] , axis =1 , inplace = True)\n",
    "test.drop(columns = [\"id\"] , axis =1 , inplace = True)"
   ]
  },
  {
   "cell_type": "markdown",
   "metadata": {},
   "source": [
    "### Data cleaning by removing the unnecessary words and symbol in tweet feature"
   ]
  },
  {
   "cell_type": "code",
   "execution_count": 7,
   "metadata": {},
   "outputs": [],
   "source": [
    "def tweet_cleaned(text):\n",
    "    text = str(text).lower()\n",
    "    text = re.sub(r'[^a-z]',\" \",text)\n",
    "    text = re.sub(r'\\\\n',\" \",text)\n",
    "    text = re.sub(r'\\W',\" \",text)\n",
    "    text = re.sub(r'https\\s+|www.\\s+',\" \",text)\n",
    "    text = re.sub(r'http\\s+|www.\\s+',\" \",text)\n",
    "    text = re.sub(r'\\s+[a-zA-Z]\\s+',\" \",text)\n",
    "    text = re.sub(r'\\^[a-zA-Z]\\s+',\" \",text)\n",
    "    text = re.sub(r\"won\\'t\", \"will not\",text)\n",
    "    text = re.sub(r'can\\'t', \"can not\",text)\n",
    "    text = re.sub(r'don\\'t', \"do not\",text)\n",
    "    text = re.sub(r'dont', \"do not\",text)\n",
    "    text = re.sub(r'n\\’t', \" not\",text)\n",
    "    text = re.sub(r'n\\'t', \" not\",text)\n",
    "    text = re.sub(r'\\'re', \" are\",text)\n",
    "    text = re.sub(r'\\'s', \" is\",text)\n",
    "    text = re.sub(r'\\’d', \" would\",text)\n",
    "    text = re.sub(r'\\d', \" would\",text)\n",
    "    text = re.sub(r'\\'ll', \" will\",text)\n",
    "    text = re.sub(r'\\'t', \" not\",text)                  \n",
    "    text = re.sub(r'\\'ve', \" have\",text)\n",
    "    text = re.sub(r'\\'m', \" am\",text)\n",
    "    text = re.sub(r'\\n', \"\",text)\n",
    "    text = re.sub(r'\\r', \"\",text)\n",
    "    text = re.sub(r'[0-9]', \"digit\",text)\n",
    "    text = re.sub(r\"\\'\", \"\",text)\n",
    "    text = re.sub(r\"\\\"\", \"\",text)\n",
    "    text = re.sub(r'[?|!|\\'|\"|#]',r'',text)\n",
    "    text = re.sub(r'[.|,|)|(|\\|/]',r' ',text)    \n",
    "    text = re.sub(r'\\s+', ' ',text)\n",
    "    return text\n",
    "\n",
    "train[\"tweet_cleaned\"] = train[\"tweet\"].apply(tweet_cleaned)\n",
    "test[\"tweet_cleaned\"] = test[\"tweet\"].apply(tweet_cleaned)"
   ]
  },
  {
   "cell_type": "code",
   "execution_count": 8,
   "metadata": {},
   "outputs": [
    {
     "data": {
      "text/html": [
       "<div>\n",
       "<style scoped>\n",
       "    .dataframe tbody tr th:only-of-type {\n",
       "        vertical-align: middle;\n",
       "    }\n",
       "\n",
       "    .dataframe tbody tr th {\n",
       "        vertical-align: top;\n",
       "    }\n",
       "\n",
       "    .dataframe thead th {\n",
       "        text-align: right;\n",
       "    }\n",
       "</style>\n",
       "<table border=\"1\" class=\"dataframe\">\n",
       "  <thead>\n",
       "    <tr style=\"text-align: right;\">\n",
       "      <th></th>\n",
       "      <th>label</th>\n",
       "      <th>tweet</th>\n",
       "      <th>tweet_cleaned</th>\n",
       "    </tr>\n",
       "  </thead>\n",
       "  <tbody>\n",
       "    <tr>\n",
       "      <th>0</th>\n",
       "      <td>0</td>\n",
       "      <td>@user when a father is dysfunctional and is s...</td>\n",
       "      <td>user when father is dysfunctional and is so s...</td>\n",
       "    </tr>\n",
       "    <tr>\n",
       "      <th>1</th>\n",
       "      <td>0</td>\n",
       "      <td>@user @user thanks for #lyft credit i can't us...</td>\n",
       "      <td>user user thanks for lyft credit can use caus...</td>\n",
       "    </tr>\n",
       "    <tr>\n",
       "      <th>2</th>\n",
       "      <td>0</td>\n",
       "      <td>bihday your majesty</td>\n",
       "      <td>bihday your majesty</td>\n",
       "    </tr>\n",
       "    <tr>\n",
       "      <th>3</th>\n",
       "      <td>0</td>\n",
       "      <td>#model   i love u take with u all the time in ...</td>\n",
       "      <td>model love take with all the time in ur</td>\n",
       "    </tr>\n",
       "    <tr>\n",
       "      <th>4</th>\n",
       "      <td>0</td>\n",
       "      <td>factsguide: society now    #motivation</td>\n",
       "      <td>factsguide society now motivation</td>\n",
       "    </tr>\n",
       "  </tbody>\n",
       "</table>\n",
       "</div>"
      ],
      "text/plain": [
       "   label                                              tweet  \\\n",
       "0      0   @user when a father is dysfunctional and is s...   \n",
       "1      0  @user @user thanks for #lyft credit i can't us...   \n",
       "2      0                                bihday your majesty   \n",
       "3      0  #model   i love u take with u all the time in ...   \n",
       "4      0             factsguide: society now    #motivation   \n",
       "\n",
       "                                       tweet_cleaned  \n",
       "0   user when father is dysfunctional and is so s...  \n",
       "1   user user thanks for lyft credit can use caus...  \n",
       "2                                bihday your majesty  \n",
       "3           model love take with all the time in ur   \n",
       "4                  factsguide society now motivation  "
      ]
     },
     "execution_count": 8,
     "metadata": {},
     "output_type": "execute_result"
    }
   ],
   "source": [
    "train.head()"
   ]
  },
  {
   "cell_type": "code",
   "execution_count": 9,
   "metadata": {},
   "outputs": [],
   "source": [
    "train.drop(columns = [\"tweet\"] , axis =1 , inplace = True)\n",
    "test.drop(columns = [\"tweet\"] , axis =1 , inplace = True)"
   ]
  },
  {
   "cell_type": "code",
   "execution_count": 10,
   "metadata": {},
   "outputs": [],
   "source": [
    "X = train.drop(labels = [\"label\"],axis =1)\n",
    "y = train[\"label\"].values"
   ]
  },
  {
   "cell_type": "code",
   "execution_count": 11,
   "metadata": {},
   "outputs": [],
   "source": [
    "from sklearn.model_selection import train_test_split\n",
    "from sklearn.model_selection import StratifiedKFold,GridSearchCV\n",
    "\n",
    "from sklearn.feature_extraction.text import TfidfVectorizer\n",
    "from sklearn.metrics import classification_report , confusion_matrix , accuracy_score\n",
    "\n",
    "from xgboost import XGBClassifier\n",
    "from sklearn.ensemble import BaggingClassifier,GradientBoostingClassifier , RandomForestClassifier\n",
    "from sklearn.linear_model import LogisticRegression\n",
    "from sklearn.svm import SVC\n",
    "from lightgbm import LGBMRegressor"
   ]
  },
  {
   "cell_type": "code",
   "execution_count": 12,
   "metadata": {},
   "outputs": [],
   "source": [
    "X_train , X_cv , y_train , y_cv = train_test_split(X,y,test_size=0.25,random_state=42)"
   ]
  },
  {
   "cell_type": "code",
   "execution_count": 13,
   "metadata": {},
   "outputs": [],
   "source": [
    "tf1 = TfidfVectorizer(ngram_range=(1,2),stop_words = 'english' , token_pattern = r'\\w{3,}' , min_df = 3)\n",
    "\n",
    "#tf1 = TfidfVectorizer(min_df=3, max_features=None, strip_accents='unicode', analyzer='word',token_pattern=r'\\w{1,}', ngram_range=(1, 4), use_idf=1,smooth_idf=1,sublinear_tf=1, stop_words = 'english')\n",
    "tfidf_train_tweets = tf1.fit_transform(X_train[\"tweet_cleaned\"])\n",
    "tfidf_cv_tweets = tf1.transform(X_cv[\"tweet_cleaned\"])\n",
    "#tfidf_cv_tweets = pd.DataFrame(data = tfidf_cv_tweets.toarray() , columns = tf1.get_feature_names())"
   ]
  },
  {
   "cell_type": "code",
   "execution_count": 14,
   "metadata": {},
   "outputs": [
    {
     "name": "stdout",
     "output_type": "stream",
     "text": [
      "Confusion matrix: [[7432    0]\n",
      " [ 551    8]]\n",
      "Classification_report:               precision    recall  f1-score   support\n",
      "\n",
      "           0       0.93      1.00      0.96      7432\n",
      "           1       1.00      0.01      0.03       559\n",
      "\n",
      "    accuracy                           0.93      7991\n",
      "   macro avg       0.97      0.51      0.50      7991\n",
      "weighted avg       0.94      0.93      0.90      7991\n",
      "\n",
      "Accuracy_score: 0.9310474283569015\n"
     ]
    }
   ],
   "source": [
    "xgb = XGBClassifier(learning_rate=0.1, \n",
    "                   gamma=100, \n",
    "                   max_depth=25,  \n",
    "                   min_child_weight=1, \n",
    "                   max_delta_step=0, \n",
    "                   subsample=0.75,  \n",
    "                   colsample_bylevel=0.95,  \n",
    "                   colsample_bytree=0.70,  \n",
    "                   reg_lambda=1)\n",
    "\n",
    "xgb.fit(tfidf_train_tweets, y_train)\n",
    "y_pred1 = xgb.predict(tfidf_cv_tweets)\n",
    "print('Confusion matrix:', confusion_matrix(y_cv, y_pred1))\n",
    "print('Classification_report:', classification_report(y_cv, y_pred1))\n",
    "print('Accuracy_score:', accuracy_score(y_cv, y_pred1))"
   ]
  },
  {
   "cell_type": "code",
   "execution_count": 15,
   "metadata": {},
   "outputs": [
    {
     "name": "stdout",
     "output_type": "stream",
     "text": [
      "Confusion matrix: [[7415   17]\n",
      " [ 326  233]]\n",
      "Classification_report:               precision    recall  f1-score   support\n",
      "\n",
      "           0       0.96      1.00      0.98      7432\n",
      "           1       0.93      0.42      0.58       559\n",
      "\n",
      "    accuracy                           0.96      7991\n",
      "   macro avg       0.94      0.71      0.78      7991\n",
      "weighted avg       0.96      0.96      0.95      7991\n",
      "\n",
      "Accuracy_score: 0.9570767113002128\n"
     ]
    }
   ],
   "source": [
    "svm = SVC()\n",
    "svm.fit(tfidf_train_tweets, y_train)\n",
    "y_pred2 = svm.predict(tfidf_cv_tweets)\n",
    "print('Confusion matrix:', confusion_matrix(y_cv, y_pred2))\n",
    "print('Classification_report:', classification_report(y_cv, y_pred2))\n",
    "print('Accuracy_score:', accuracy_score(y_cv, y_pred2))"
   ]
  },
  {
   "cell_type": "code",
   "execution_count": 16,
   "metadata": {},
   "outputs": [
    {
     "name": "stdout",
     "output_type": "stream",
     "text": [
      "Confusion matrix: [[7414   18]\n",
      " [ 388  171]]\n",
      "Classification_report:               precision    recall  f1-score   support\n",
      "\n",
      "           0       0.95      1.00      0.97      7432\n",
      "           1       0.90      0.31      0.46       559\n",
      "\n",
      "    accuracy                           0.95      7991\n",
      "   macro avg       0.93      0.65      0.72      7991\n",
      "weighted avg       0.95      0.95      0.94      7991\n",
      "\n",
      "Accuracy_score: 0.9491928419471906\n"
     ]
    }
   ],
   "source": [
    "lr = LogisticRegression()\n",
    "lr.fit(tfidf_train_tweets, y_train)\n",
    "y_pred3 = lr.predict(tfidf_cv_tweets)\n",
    "print('Confusion matrix:', confusion_matrix(y_cv, y_pred3))\n",
    "print('Classification_report:', classification_report(y_cv, y_pred3))\n",
    "print('Accuracy_score:', accuracy_score(y_cv, y_pred3))"
   ]
  },
  {
   "cell_type": "code",
   "execution_count": 17,
   "metadata": {},
   "outputs": [],
   "source": [
    "submission[\"label\"] =  svm.predict(tf1.transform(test[\"tweet_cleaned\"]))"
   ]
  },
  {
   "cell_type": "code",
   "execution_count": 18,
   "metadata": {},
   "outputs": [
    {
     "data": {
      "text/html": [
       "<div>\n",
       "<style scoped>\n",
       "    .dataframe tbody tr th:only-of-type {\n",
       "        vertical-align: middle;\n",
       "    }\n",
       "\n",
       "    .dataframe tbody tr th {\n",
       "        vertical-align: top;\n",
       "    }\n",
       "\n",
       "    .dataframe thead th {\n",
       "        text-align: right;\n",
       "    }\n",
       "</style>\n",
       "<table border=\"1\" class=\"dataframe\">\n",
       "  <thead>\n",
       "    <tr style=\"text-align: right;\">\n",
       "      <th></th>\n",
       "      <th>id</th>\n",
       "      <th>label</th>\n",
       "    </tr>\n",
       "  </thead>\n",
       "  <tbody>\n",
       "    <tr>\n",
       "      <th>0</th>\n",
       "      <td>31963</td>\n",
       "      <td>0</td>\n",
       "    </tr>\n",
       "    <tr>\n",
       "      <th>1</th>\n",
       "      <td>31964</td>\n",
       "      <td>1</td>\n",
       "    </tr>\n",
       "    <tr>\n",
       "      <th>2</th>\n",
       "      <td>31965</td>\n",
       "      <td>0</td>\n",
       "    </tr>\n",
       "    <tr>\n",
       "      <th>3</th>\n",
       "      <td>31966</td>\n",
       "      <td>0</td>\n",
       "    </tr>\n",
       "    <tr>\n",
       "      <th>4</th>\n",
       "      <td>31967</td>\n",
       "      <td>0</td>\n",
       "    </tr>\n",
       "    <tr>\n",
       "      <th>5</th>\n",
       "      <td>31968</td>\n",
       "      <td>0</td>\n",
       "    </tr>\n",
       "    <tr>\n",
       "      <th>6</th>\n",
       "      <td>31969</td>\n",
       "      <td>0</td>\n",
       "    </tr>\n",
       "    <tr>\n",
       "      <th>7</th>\n",
       "      <td>31970</td>\n",
       "      <td>0</td>\n",
       "    </tr>\n",
       "    <tr>\n",
       "      <th>8</th>\n",
       "      <td>31971</td>\n",
       "      <td>0</td>\n",
       "    </tr>\n",
       "    <tr>\n",
       "      <th>9</th>\n",
       "      <td>31972</td>\n",
       "      <td>0</td>\n",
       "    </tr>\n",
       "  </tbody>\n",
       "</table>\n",
       "</div>"
      ],
      "text/plain": [
       "      id  label\n",
       "0  31963      0\n",
       "1  31964      1\n",
       "2  31965      0\n",
       "3  31966      0\n",
       "4  31967      0\n",
       "5  31968      0\n",
       "6  31969      0\n",
       "7  31970      0\n",
       "8  31971      0\n",
       "9  31972      0"
      ]
     },
     "execution_count": 18,
     "metadata": {},
     "output_type": "execute_result"
    }
   ],
   "source": [
    "submission.head(10)"
   ]
  },
  {
   "cell_type": "code",
   "execution_count": 19,
   "metadata": {},
   "outputs": [],
   "source": [
    "submission.to_csv(\"submission.csv\" , index = False)"
   ]
  }
 ],
 "metadata": {
  "kernelspec": {
   "display_name": "Python 3",
   "language": "python",
   "name": "python3"
  },
  "language_info": {
   "codemirror_mode": {
    "name": "ipython",
    "version": 3
   },
   "file_extension": ".py",
   "mimetype": "text/x-python",
   "name": "python",
   "nbconvert_exporter": "python",
   "pygments_lexer": "ipython3",
   "version": "3.7.6"
  }
 },
 "nbformat": 4,
 "nbformat_minor": 4
}
